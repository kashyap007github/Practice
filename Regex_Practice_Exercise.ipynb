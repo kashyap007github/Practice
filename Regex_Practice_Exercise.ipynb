{
 "cells": [
  {
   "cell_type": "code",
   "execution_count": 5,
   "metadata": {},
   "outputs": [
    {
     "name": "stdout",
     "output_type": "stream",
     "text": [
      "rat\n",
      "trach\n",
      "palet\n",
      "0089kj\n"
     ]
    }
   ],
   "source": [
    "import re\n",
    "#1) Write a Python program to check that a string contains only a certain set of characters (in this case a-z, A-Z and 0-9).\n",
    "def check_set_of_char(string):\n",
    "        pattern = r'[a-zA-Z0-9]+'\n",
    "        matches = re.findall(pattern,string)\n",
    "        for i in matches:\n",
    "            print(i)\n",
    "\n",
    "text = \"\"\"$%& rat%% trach palet 0089kj&\"\"\"\n",
    "check_set_of_char(text)\n",
    "            "
   ]
  },
  {
   "cell_type": "code",
   "execution_count": 11,
   "metadata": {},
   "outputs": [
    {
     "name": "stdout",
     "output_type": "stream",
     "text": [
      "abb\n"
     ]
    }
   ],
   "source": [
    "#2) Write a Python program that matches a string that has an a followed by zero or more b's\n",
    "\n",
    "def followed_by_b(string):\n",
    "    pattern = r'^ab*'\n",
    "    matches = re.findall(pattern,string)\n",
    "    for i in matches:\n",
    "        print(i)\n",
    "        \n",
    "followed_by_b('abc')\n",
    "followed_by_b('abb')\n",
    "followed_by_b('abaabb')"
   ]
  },
  {
   "cell_type": "code",
   "execution_count": 12,
   "metadata": {},
   "outputs": [
    {
     "name": "stdout",
     "output_type": "stream",
     "text": [
      "abb\n"
     ]
    }
   ],
   "source": [
    "#3) Write a Python program that matches a string that has an a followed by zero or more b's and ends with b\n",
    "\n",
    "def followed_by_b(string):\n",
    "    pattern = r'^ab*b$'\n",
    "    matches = re.findall(pattern,string)\n",
    "    for i in matches:\n",
    "        print(i)\n",
    "        \n",
    "followed_by_b('abc')\n",
    "followed_by_b('abb')\n",
    "followed_by_b('abaabb')"
   ]
  },
  {
   "cell_type": "code",
   "execution_count": 16,
   "metadata": {},
   "outputs": [
    {
     "name": "stdout",
     "output_type": "stream",
     "text": [
      "abbb\n",
      "abb\n"
     ]
    }
   ],
   "source": [
    "#4) Write a Python program that matches a string that has an a followed by two to three 'b'.    \n",
    "\n",
    "def followed_by_b(string):\n",
    "    pattern = r'^ab{2,3}'\n",
    "    matches = re.findall(pattern,string)\n",
    "    for i in matches:\n",
    "        print(i)\n",
    "        \n",
    "followed_by_b('a')\n",
    "followed_by_b('abbb')\n",
    "followed_by_b('abb')"
   ]
  },
  {
   "cell_type": "code",
   "execution_count": 25,
   "metadata": {},
   "outputs": [
    {
     "name": "stdout",
     "output_type": "stream",
     "text": [
      "abc_svt\n"
     ]
    }
   ],
   "source": [
    "#5)Write a Python program to find sequences of lowercase letters joined with a underscore.\n",
    "\n",
    "def underscore_connector(string):\n",
    "    pattern = r'[a-z]+_[a-z]+$'\n",
    "    matches = re.findall(pattern,string)\n",
    "    for i in matches:\n",
    "        print(i)\n",
    "        \n",
    "underscore_connector('abc_svt')\n",
    "underscore_connector('AVF_bsjdhbj')\n",
    "underscore_connector('skjdfksjn')\n",
    "underscore_connector('jklo_KMJ')\n",
    " "
   ]
  },
  {
   "cell_type": "code",
   "execution_count": 28,
   "metadata": {},
   "outputs": [
    {
     "name": "stdout",
     "output_type": "stream",
     "text": [
      "Fbsjdhbj\n",
      "Djn\n"
     ]
    }
   ],
   "source": [
    "#6)Write a Python program to find the sequences of one upper case letter followed by lower case letters\n",
    "\n",
    "def upperlower(string):\n",
    "    pattern = r'[A-Z][a-z]+$'\n",
    "    matches = re.findall(pattern,string)\n",
    "    for i in matches:\n",
    "        print(i)\n",
    "        \n",
    "upperlower('abcsvt')\n",
    "upperlower('AVFbsjdhbj')\n",
    "upperlower('skjdfkDjn')\n",
    "upperlower('jkloKMJ')\n",
    " "
   ]
  },
  {
   "cell_type": "code",
   "execution_count": 31,
   "metadata": {},
   "outputs": [
    {
     "name": "stdout",
     "output_type": "stream",
     "text": [
      "abcsvtb\n",
      "ajdhbjb\n"
     ]
    }
   ],
   "source": [
    "#7)Write a Python program that matches a string that has an 'a' followed by anything, ending in 'b'\n",
    "def ending_b(string):\n",
    "    pattern = r'a.*b$'\n",
    "    matches = re.findall(pattern,string)\n",
    "    for i in matches:\n",
    "        print(i)\n",
    "        \n",
    "ending_b('abcsvtb')\n",
    "ending_b('AVFbajdhbjb')\n",
    "ending_b('akjdfkDjn')\n",
    "ending_b('akloKMJbc')\n",
    " "
   ]
  },
  {
   "cell_type": "code",
   "execution_count": 35,
   "metadata": {},
   "outputs": [
    {
     "name": "stdout",
     "output_type": "stream",
     "text": [
      "I\n",
      "who\n"
     ]
    }
   ],
   "source": [
    "#8)Write a Python program that matches a word at the beginning of a string.\n",
    "def word_at_start(string):\n",
    "    pattern = r'^[a-zA-Z]+'\n",
    "    matches = re.findall(pattern,string)\n",
    "    for i in matches:\n",
    "        print(i)\n",
    "        \n",
    "word_at_start('9abcsvtb')\n",
    "word_at_start('I am the owner')\n",
    "word_at_start('_987 is my number')\n",
    "word_at_start('who are m the one')\n",
    " "
   ]
  },
  {
   "cell_type": "code",
   "execution_count": 37,
   "metadata": {},
   "outputs": [
    {
     "name": "stdout",
     "output_type": "stream",
     "text": [
      "abcsvtb\n",
      "owner.\n",
      "number\n",
      "one\n"
     ]
    }
   ],
   "source": [
    "#9) Write a Python program that matches a word at the end of string, with optional punctuation.\n",
    "def word_at_end(string):\n",
    "    pattern = r'[a-zA-Z]+[,\\.]?$'\n",
    "    matches = re.findall(pattern,string)\n",
    "    for i in matches:\n",
    "        print(i)\n",
    "        \n",
    "word_at_end('9abcsvtb')\n",
    "word_at_end('I am the owner.')\n",
    "word_at_end('_987 is my number')\n",
    "word_at_end('who are m the one')\n"
   ]
  },
  {
   "cell_type": "code",
   "execution_count": 40,
   "metadata": {},
   "outputs": [
    {
     "name": "stdout",
     "output_type": "stream",
     "text": [
      "numbzr\n"
     ]
    }
   ],
   "source": [
    "#10) Write a Python program that matches a word containing 'z'\n",
    "def contain_z(string):\n",
    "    pattern = r'\\w*z\\w*'\n",
    "    matches = re.findall(pattern,string)\n",
    "    for i in matches:\n",
    "        print(i)\n",
    "        \n",
    "contain_z('9abcsvtb')\n",
    "contain_z('I am the owner.')\n",
    "contain_z('_987 is my numbzr')\n",
    "contain_z('who are m the one')\n"
   ]
  },
  {
   "cell_type": "code",
   "execution_count": 42,
   "metadata": {},
   "outputs": [
    {
     "name": "stdout",
     "output_type": "stream",
     "text": [
      "I am on Rd. no 7\n",
      "Ram Rd. is the best\n"
     ]
    }
   ],
   "source": [
    "#11)Write a Python program to abbreviate 'Road' as 'Rd.' in a given string.\n",
    "def abbreviate(string):\n",
    "    print(re.sub('Road','Rd.',string))\n",
    "    \n",
    "    \n",
    "    \n",
    "abbreviate(\"I am on Road no 7\")\n",
    "abbreviate(\"Ram Road is the best\")\n",
    "    \n",
    "        \n"
   ]
  },
  {
   "cell_type": "code",
   "execution_count": 43,
   "metadata": {},
   "outputs": [
    {
     "name": "stdout",
     "output_type": "stream",
     "text": [
      "27\n",
      "28\n"
     ]
    }
   ],
   "source": [
    "#12) Write a Python program to separate and print the numbers of a given string.\n",
    "\n",
    "def seperator(string):\n",
    "    pattern = r'\\d+'\n",
    "    matches = re.findall(pattern,string)\n",
    "    \n",
    "    for i in matches:\n",
    "        print(i)\n",
    "        \n",
    "        \n",
    "seperator(\"I am 27 going to be 28\")"
   ]
  },
  {
   "cell_type": "code",
   "execution_count": 45,
   "metadata": {},
   "outputs": [
    {
     "name": "stdout",
     "output_type": "stream",
     "text": [
      "['54%@example.com', 'support@example.org']\n"
     ]
    }
   ],
   "source": [
    "\n",
    "\n",
    "def find_valid_emails(text):\n",
    "    pattern = r'\\b[A-Za-z0-9._%+-]+@[A-Za-z0-9.-]+\\.[A-Za-z]{2,}\\b'\n",
    "    valid_emails = re.findall(pattern, text)\n",
    "    return valid_emails\n",
    "\n",
    "# Example usage\n",
    "input_text = \"Contact us at 54%@example.com or support@example.org\"\n",
    "valid_emails = find_valid_emails(input_text)\n",
    "print(valid_emails)\n"
   ]
  },
  {
   "cell_type": "code",
   "execution_count": null,
   "metadata": {},
   "outputs": [],
   "source": []
  }
 ],
 "metadata": {
  "kernelspec": {
   "display_name": "Python 3",
   "language": "python",
   "name": "python3"
  },
  "language_info": {
   "codemirror_mode": {
    "name": "ipython",
    "version": 3
   },
   "file_extension": ".py",
   "mimetype": "text/x-python",
   "name": "python",
   "nbconvert_exporter": "python",
   "pygments_lexer": "ipython3",
   "version": "3.6.5"
  }
 },
 "nbformat": 4,
 "nbformat_minor": 2
}
